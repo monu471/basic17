{
 "cells": [
  {
   "cell_type": "markdown",
   "id": "e3c429a2",
   "metadata": {},
   "source": [
    "#### 1. Assign the value 7 to the variable guess_me. Then, write the conditional tests (if, else, and elif) toprint the string &#39;too low&#39; if guess_me is less than 7, &#39;too high&#39; if greater than 7, and &#39;just right&#39; if equalto 7."
   ]
  },
  {
   "cell_type": "code",
   "execution_count": 3,
   "id": "e82bc497",
   "metadata": {},
   "outputs": [],
   "source": [
    "variable_guess_me= 18\n",
    "outcome = [\"too low\" if variable_guess_me<7 else \"too high\" if variable_guess_me>7 else \"just right\"]"
   ]
  },
  {
   "cell_type": "code",
   "execution_count": 4,
   "id": "72087d59",
   "metadata": {},
   "outputs": [
    {
     "data": {
      "text/plain": [
       "['too high']"
      ]
     },
     "execution_count": 4,
     "metadata": {},
     "output_type": "execute_result"
    }
   ],
   "source": [
    "outcome"
   ]
  },
  {
   "cell_type": "markdown",
   "id": "991de026",
   "metadata": {},
   "source": [
    "#### 2. Assign the value 7 to the variable guess_me and the value 1 to the variable start. Write a whileloop that compares start with guess_me. Print too low if start is less than guess me. If start equalguess_me, print &#39;found it!&#39; and exit the loop. If start is greater than guess_me, print &#39;oops&#39; and exitthe loop. Increment start at the end of the loop."
   ]
  },
  {
   "cell_type": "code",
   "execution_count": 12,
   "id": "337eeb06",
   "metadata": {},
   "outputs": [
    {
     "name": "stdout",
     "output_type": "stream",
     "text": [
      "oops\n"
     ]
    }
   ],
   "source": [
    "guess_me = 7\n",
    "variable_start = 8\n",
    "while True:\n",
    "    if variable_start<guess_me:\n",
    "        print(\"Too low\") \n",
    "    elif variable_start == guess_me:\n",
    "        print(\"found it\")\n",
    "        break\n",
    "    else:\n",
    "        print(\"oops\")\n",
    "        break\n",
    "    variable_start+=1\n",
    "    \n",
    "\n",
    "\n",
    "\n"
   ]
  },
  {
   "cell_type": "markdown",
   "id": "de6f2d01",
   "metadata": {},
   "source": [
    "#### 3. Print the following values of the list [3, 2, 1, 0] using a for loop.\n"
   ]
  },
  {
   "cell_type": "code",
   "execution_count": 13,
   "id": "56fd0dc2",
   "metadata": {},
   "outputs": [],
   "source": [
    "list = [i for i in [3,2,1,0]]"
   ]
  },
  {
   "cell_type": "markdown",
   "id": "f47d1996",
   "metadata": {},
   "source": [
    "#### 4. Use a list comprehension to make a list of the even numbers in range(10)"
   ]
  },
  {
   "cell_type": "code",
   "execution_count": 18,
   "id": "4e101b0d",
   "metadata": {},
   "outputs": [
    {
     "data": {
      "text/plain": [
       "[0, 2, 4, 6, 8]"
      ]
     },
     "execution_count": 18,
     "metadata": {},
     "output_type": "execute_result"
    }
   ],
   "source": [
    "even_num = [num for num in range(10) if  num%2==0 ]\n",
    "even_num"
   ]
  },
  {
   "cell_type": "markdown",
   "id": "fc7c52bf",
   "metadata": {},
   "source": [
    "#### 5. Use a dictionary comprehension to create the dictionary squares. Use range(10) to return thekeys, and use the square of each key as its value."
   ]
  },
  {
   "cell_type": "code",
   "execution_count": 19,
   "id": "6ef5004e",
   "metadata": {},
   "outputs": [
    {
     "data": {
      "text/plain": [
       "{0: 0, 1: 1, 2: 4, 3: 9, 4: 16, 5: 25, 6: 36, 7: 49, 8: 64, 9: 81}"
      ]
     },
     "execution_count": 19,
     "metadata": {},
     "output_type": "execute_result"
    }
   ],
   "source": [
    "dict_squre = {i:i**2 for i in range(10)}\n",
    "dict_squre"
   ]
  },
  {
   "cell_type": "markdown",
   "id": "0f62cd5d",
   "metadata": {},
   "source": [
    "#### 6. Construct the set odd from the odd numbers in the range using a set comprehension (10)."
   ]
  },
  {
   "cell_type": "code",
   "execution_count": 22,
   "id": "3e75ef95",
   "metadata": {},
   "outputs": [
    {
     "data": {
      "text/plain": [
       "{1, 3, 5, 7, 9}"
      ]
     },
     "execution_count": 22,
     "metadata": {},
     "output_type": "execute_result"
    }
   ],
   "source": [
    "set_odd = set(num for num in range(10) if num%2!=0)\n",
    "set_odd"
   ]
  },
  {
   "cell_type": "markdown",
   "id": "0c9c55c9",
   "metadata": {},
   "source": [
    "#### 7. Use a generator comprehension to return the string &#39;Got &#39; and a number for the numbers inrange(10). Iterate through this by using a for loop."
   ]
  },
  {
   "cell_type": "code",
   "execution_count": 32,
   "id": "fb7ebeb5",
   "metadata": {},
   "outputs": [
    {
     "name": "stdout",
     "output_type": "stream",
     "text": [
      "Got0\n",
      "Got1\n",
      "Got2\n",
      "Got3\n",
      "Got4\n",
      "Got5\n",
      "Got6\n",
      "Got7\n",
      "Got8\n",
      "Got9\n"
     ]
    }
   ],
   "source": [
    "for i in (\"Got\"+str(i) for i in range(10)):\n",
    "    print(i)"
   ]
  },
  {
   "cell_type": "markdown",
   "id": "5934f134",
   "metadata": {},
   "source": [
    "#### 8. Define a function called good that returns the list [&#39;Harry&#39;, &#39;Ron&#39;, &#39;Hermione&#39;]."
   ]
  },
  {
   "cell_type": "code",
   "execution_count": 33,
   "id": "43867610",
   "metadata": {},
   "outputs": [],
   "source": [
    "def good():\n",
    "    return [\"harry\",\"ron\",\"hermoine\"]"
   ]
  },
  {
   "cell_type": "code",
   "execution_count": 34,
   "id": "725b2786",
   "metadata": {},
   "outputs": [
    {
     "data": {
      "text/plain": [
       "['harry', 'ron', 'hermoine']"
      ]
     },
     "execution_count": 34,
     "metadata": {},
     "output_type": "execute_result"
    }
   ],
   "source": [
    "good()"
   ]
  },
  {
   "cell_type": "markdown",
   "id": "7bcdeb2e",
   "metadata": {},
   "source": [
    "#### 9. Define a generator function called get_odds that returns the odd numbers from range(10). Use afor loop to find and print the third value returned."
   ]
  },
  {
   "cell_type": "code",
   "execution_count": 55,
   "id": "1b2e80f2",
   "metadata": {},
   "outputs": [
    {
     "name": "stdout",
     "output_type": "stream",
     "text": [
      "5\n"
     ]
    }
   ],
   "source": [
    "from itertools import islice\n",
    "def get_odds(n):\n",
    "    for i in range(n):\n",
    "        if i%2!=0:\n",
    "            yield i \n",
    "thrid_odd  = next(islice(get_odds(10),2,3))\n",
    "print(thrid_odd)\n",
    "\n"
   ]
  },
  {
   "cell_type": "code",
   "execution_count": 56,
   "id": "1aab3f93",
   "metadata": {},
   "outputs": [
    {
     "name": "stdout",
     "output_type": "stream",
     "text": [
      "Third odd number: 5\n"
     ]
    }
   ],
   "source": [
    "def get_odds():\n",
    "    for num in range(1, 10, 2):\n",
    "        yield num\n",
    "\n",
    "count = 0\n",
    "for num in get_odds():\n",
    "    count += 1\n",
    "    if count == 3:\n",
    "        print(\"Third odd number:\", num)\n",
    "        break\n"
   ]
  },
  {
   "cell_type": "markdown",
   "id": "32b29c66",
   "metadata": {},
   "source": [
    "#### 10. Define an exception called OopsException. Raise this exception to see what happens. Then writethe code to catch this exception and print &#39;Caught an oops&#39;."
   ]
  },
  {
   "cell_type": "code",
   "execution_count": 66,
   "id": "613c52f6",
   "metadata": {},
   "outputs": [],
   "source": [
    "import sys\n",
    "class OopsException(Exception):\n",
    "    pass\n",
    "\n",
    "try:\n",
    "    pass\n",
    "except Exception as e:\n",
    "    raise OopsException(e,sys)\n"
   ]
  },
  {
   "cell_type": "markdown",
   "id": "95ed9699",
   "metadata": {},
   "source": [
    "#### 11. Use zip() to make a dictionary called movies that pairs these lists: titles = [&#39;Creature of Habit&#39;,&#39;Crewel Fate&#39;] and plots = [&#39;A nun turns into a monster&#39;, &#39;A haunted yarn shop&#39;]."
   ]
  },
  {
   "cell_type": "code",
   "execution_count": 64,
   "id": "cda910d7",
   "metadata": {},
   "outputs": [],
   "source": [
    "titles = [\"Creature of Habit\",\"Crewel Fate\"]\n",
    "plots = [\"A nun turns into a monster\",\"A haunted yarn shop\"]\n",
    "dict_movie = {title:plots for title,plots in zip(titles,plots)}"
   ]
  },
  {
   "cell_type": "code",
   "execution_count": 65,
   "id": "0ab6e5d2",
   "metadata": {},
   "outputs": [
    {
     "data": {
      "text/plain": [
       "{'Creature of Habit': 'A nun turns into a monster',\n",
       " 'Crewel Fate': 'A haunted yarn shop'}"
      ]
     },
     "execution_count": 65,
     "metadata": {},
     "output_type": "execute_result"
    }
   ],
   "source": [
    "dict_movie"
   ]
  },
  {
   "cell_type": "code",
   "execution_count": null,
   "id": "bfa34e97",
   "metadata": {},
   "outputs": [],
   "source": []
  }
 ],
 "metadata": {
  "kernelspec": {
   "display_name": "Python 3 (ipykernel)",
   "language": "python",
   "name": "python3"
  },
  "language_info": {
   "codemirror_mode": {
    "name": "ipython",
    "version": 3
   },
   "file_extension": ".py",
   "mimetype": "text/x-python",
   "name": "python",
   "nbconvert_exporter": "python",
   "pygments_lexer": "ipython3",
   "version": "3.10.9"
  }
 },
 "nbformat": 4,
 "nbformat_minor": 5
}
